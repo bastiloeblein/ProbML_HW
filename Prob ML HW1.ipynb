{
 "cells": [
  {
   "cell_type": "code",
   "execution_count": 101,
   "metadata": {},
   "outputs": [],
   "source": [
    "import numpy as np\n",
    "import pandas as pd\n",
    "import matplotlib.pyplot as plt"
   ]
  },
  {
   "cell_type": "code",
   "execution_count": 102,
   "metadata": {},
   "outputs": [
    {
     "data": {
      "text/html": [
       "<div>\n",
       "<style scoped>\n",
       "    .dataframe tbody tr th:only-of-type {\n",
       "        vertical-align: middle;\n",
       "    }\n",
       "\n",
       "    .dataframe tbody tr th {\n",
       "        vertical-align: top;\n",
       "    }\n",
       "\n",
       "    .dataframe thead th {\n",
       "        text-align: right;\n",
       "    }\n",
       "</style>\n",
       "<table border=\"1\" class=\"dataframe\">\n",
       "  <thead>\n",
       "    <tr style=\"text-align: right;\">\n",
       "      <th></th>\n",
       "      <th>TV</th>\n",
       "      <th>Radio</th>\n",
       "      <th>Newspaper</th>\n",
       "      <th>Sales</th>\n",
       "    </tr>\n",
       "  </thead>\n",
       "  <tbody>\n",
       "    <tr>\n",
       "      <th>0</th>\n",
       "      <td>230.1</td>\n",
       "      <td>37.8</td>\n",
       "      <td>69.2</td>\n",
       "      <td>22.1</td>\n",
       "    </tr>\n",
       "    <tr>\n",
       "      <th>1</th>\n",
       "      <td>44.5</td>\n",
       "      <td>39.3</td>\n",
       "      <td>45.1</td>\n",
       "      <td>10.4</td>\n",
       "    </tr>\n",
       "    <tr>\n",
       "      <th>2</th>\n",
       "      <td>17.2</td>\n",
       "      <td>45.9</td>\n",
       "      <td>69.3</td>\n",
       "      <td>9.3</td>\n",
       "    </tr>\n",
       "    <tr>\n",
       "      <th>3</th>\n",
       "      <td>151.5</td>\n",
       "      <td>41.3</td>\n",
       "      <td>58.5</td>\n",
       "      <td>18.5</td>\n",
       "    </tr>\n",
       "    <tr>\n",
       "      <th>4</th>\n",
       "      <td>180.8</td>\n",
       "      <td>10.8</td>\n",
       "      <td>58.4</td>\n",
       "      <td>12.9</td>\n",
       "    </tr>\n",
       "  </tbody>\n",
       "</table>\n",
       "</div>"
      ],
      "text/plain": [
       "      TV  Radio  Newspaper  Sales\n",
       "0  230.1   37.8       69.2   22.1\n",
       "1   44.5   39.3       45.1   10.4\n",
       "2   17.2   45.9       69.3    9.3\n",
       "3  151.5   41.3       58.5   18.5\n",
       "4  180.8   10.8       58.4   12.9"
      ]
     },
     "execution_count": 102,
     "metadata": {},
     "output_type": "execute_result"
    }
   ],
   "source": [
    "df = pd.read_csv(\"Advertising.csv\")\n",
    "df = df.iloc[:,1:]\n",
    "df.head()"
   ]
  },
  {
   "cell_type": "code",
   "execution_count": 103,
   "metadata": {},
   "outputs": [
    {
     "data": {
      "text/html": [
       "<div>\n",
       "<style scoped>\n",
       "    .dataframe tbody tr th:only-of-type {\n",
       "        vertical-align: middle;\n",
       "    }\n",
       "\n",
       "    .dataframe tbody tr th {\n",
       "        vertical-align: top;\n",
       "    }\n",
       "\n",
       "    .dataframe thead th {\n",
       "        text-align: right;\n",
       "    }\n",
       "</style>\n",
       "<table border=\"1\" class=\"dataframe\">\n",
       "  <thead>\n",
       "    <tr style=\"text-align: right;\">\n",
       "      <th></th>\n",
       "      <th>Total Ads</th>\n",
       "    </tr>\n",
       "  </thead>\n",
       "  <tbody>\n",
       "    <tr>\n",
       "      <th>0</th>\n",
       "      <td>337.1</td>\n",
       "    </tr>\n",
       "    <tr>\n",
       "      <th>1</th>\n",
       "      <td>128.9</td>\n",
       "    </tr>\n",
       "    <tr>\n",
       "      <th>2</th>\n",
       "      <td>132.4</td>\n",
       "    </tr>\n",
       "    <tr>\n",
       "      <th>3</th>\n",
       "      <td>251.3</td>\n",
       "    </tr>\n",
       "    <tr>\n",
       "      <th>4</th>\n",
       "      <td>250.0</td>\n",
       "    </tr>\n",
       "  </tbody>\n",
       "</table>\n",
       "</div>"
      ],
      "text/plain": [
       "   Total Ads\n",
       "0      337.1\n",
       "1      128.9\n",
       "2      132.4\n",
       "3      251.3\n",
       "4      250.0"
      ]
     },
     "execution_count": 103,
     "metadata": {},
     "output_type": "execute_result"
    }
   ],
   "source": [
    "features = df[['TV', 'Radio', 'Newspaper']]\n",
    "response = df['Sales']\n",
    "total_ads = pd.DataFrame(features.sum(axis=1), columns=['Total Ads'])\n",
    "total_ads.head()"
   ]
  },
  {
   "attachments": {},
   "cell_type": "markdown",
   "metadata": {},
   "source": [
    "In order to determine the relationship between total ads and sales, I calculate the pearson correlation coefficient."
   ]
  },
  {
   "cell_type": "code",
   "execution_count": 104,
   "metadata": {},
   "outputs": [],
   "source": [
    "def pearson_correlation(x, y):\n",
    "    # Calculate the means\n",
    "    mean_x = np.mean(x)\n",
    "    mean_y = np.mean(y)\n",
    "    \n",
    "    # Calculate the differences from the means\n",
    "    diff_x = x - mean_x\n",
    "    diff_y = y - mean_y\n",
    "    \n",
    "    # Calculate the covariance and standard deviations\n",
    "    covariance = np.sum(diff_x * diff_y)\n",
    "    std_x = np.sqrt(np.sum(diff_x**2))\n",
    "    std_y = np.sqrt(np.sum(diff_y**2))\n",
    "    \n",
    "    # Calculate the correlation coefficient\n",
    "    correlation = covariance / (std_x * std_y)\n",
    "    \n",
    "    return correlation"
   ]
  },
  {
   "cell_type": "code",
   "execution_count": 105,
   "metadata": {},
   "outputs": [
    {
     "data": {
      "text/plain": [
       "0.867712302701742"
      ]
     },
     "execution_count": 105,
     "metadata": {},
     "output_type": "execute_result"
    }
   ],
   "source": [
    "pearson_correlation(total_ads[\"Total Ads\"], response)"
   ]
  },
  {
   "attachments": {},
   "cell_type": "markdown",
   "metadata": {},
   "source": [
    "Ex 4 b)\n",
    "\n",
    "The correlation coefficient r = 0.87 is positive and greater than 0.7. Therefore we can assume a strong positive relationship between total ads and sales. So: As the total ad expenses increase, the sales also tend to increase."
   ]
  },
  {
   "attachments": {},
   "cell_type": "markdown",
   "metadata": {},
   "source": [
    "Furthermore I will perform a linear regression analysis and estimate the parameter coefficients."
   ]
  },
  {
   "cell_type": "code",
   "execution_count": 106,
   "metadata": {},
   "outputs": [],
   "source": [
    "def fit_model(X, Y):\n",
    "    XTX = np.dot(X.T, X)\n",
    "    XTY = np.dot(X.T, Y)\n",
    "    beta = np.dot(np.linalg.inv(XTX), XTY)\n",
    "\n",
    "    return beta"
   ]
  },
  {
   "cell_type": "code",
   "execution_count": 107,
   "metadata": {},
   "outputs": [],
   "source": [
    "X = total_ads[['Total Ads']]\n",
    "Y = df['Sales']\n",
    "X.insert(0, 'Intercept', 1)"
   ]
  },
  {
   "cell_type": "code",
   "execution_count": 108,
   "metadata": {},
   "outputs": [
    {
     "data": {
      "text/plain": [
       "array([4.24302822, 0.04868788])"
      ]
     },
     "execution_count": 108,
     "metadata": {},
     "output_type": "execute_result"
    }
   ],
   "source": [
    "fit_model(X,Y)"
   ]
  },
  {
   "attachments": {},
   "cell_type": "markdown",
   "metadata": {},
   "source": [
    "Also the estimate coefficient for TV ad expense is positive. \n",
    "\n",
    "Interpretation: \n",
    "If we would not spent any money on ads, we would sell around 4.243028 units (Intercept)\n",
    "\n",
    "If we increase our ad expenses by 1 dollar (unit), our sales would increase by 0.048688.\n",
    "\n",
    "Or state it like that: An additional $1,000 spent ads is associated with an increase in sales of 48,688 sales.\n",
    "\n",
    "So we find a postive relationship between ad expenses and sales."
   ]
  },
  {
   "attachments": {},
   "cell_type": "markdown",
   "metadata": {},
   "source": [
    "Ex. 4 c)\n",
    "\n",
    "In order to find the strongest and weakest relationship between the different types of ads and sales. We calculate the correlation between each of them"
   ]
  },
  {
   "cell_type": "code",
   "execution_count": 109,
   "metadata": {},
   "outputs": [
    {
     "name": "stdout",
     "output_type": "stream",
     "text": [
      "TV: r = 0.7822244248616063\n",
      "Radio: r = 0.5762225745710553\n",
      "Newspaper: r = 0.22829902637616534\n"
     ]
    }
   ],
   "source": [
    "for ad in features.columns.tolist():\n",
    "    print(ad + \": r = \" + str(pearson_correlation(features[ad], response)))"
   ]
  },
  {
   "attachments": {},
   "cell_type": "markdown",
   "metadata": {},
   "source": [
    "All kind of ads are positively correlated with sales, so we can assume that higher ad expenses will lead to more sales. \n",
    "The TV ads have the strongest relationship with sales, while Newspaper ads have the weakest relationship with sales."
   ]
  },
  {
   "attachments": {},
   "cell_type": "markdown",
   "metadata": {},
   "source": [
    "Ex 4 d)\n",
    "\n",
    "I will predict the sales for the upcoming years, if the company will spend 50.000$ in TV ads.\n",
    "First I will estimate the coefficients and based on these make a prediction.\n",
    "Afterwards I will evaluate the model. "
   ]
  },
  {
   "cell_type": "code",
   "execution_count": 110,
   "metadata": {},
   "outputs": [],
   "source": [
    "X = df[['TV']]\n",
    "Y = df['Sales']\n",
    "X.insert(0, 'Intercept', 1)"
   ]
  },
  {
   "cell_type": "code",
   "execution_count": 111,
   "metadata": {},
   "outputs": [
    {
     "name": "stdout",
     "output_type": "stream",
     "text": [
      "Regression Coefficients:\n",
      "Intercept: 7.032593549127707\n",
      "TV: 0.04753664043301971\n"
     ]
    }
   ],
   "source": [
    "# Estimate the coefficients\n",
    "beta = fit_model(X, Y)\n",
    "\n",
    "# Print the regression coefficients and log-likelihood\n",
    "print(\"Regression Coefficients:\")\n",
    "print(f\"Intercept: {beta[0]}\")\n",
    "print(f\"TV: {beta[1]}\")"
   ]
  },
  {
   "cell_type": "code",
   "execution_count": 112,
   "metadata": {},
   "outputs": [],
   "source": [
    "def predict(X, coefficients):\n",
    "        return coefficients[0] + np.dot(X, coefficients[1:])"
   ]
  },
  {
   "cell_type": "code",
   "execution_count": 113,
   "metadata": {},
   "outputs": [
    {
     "name": "stdout",
     "output_type": "stream",
     "text": [
      "9.409425570778692\n"
     ]
    }
   ],
   "source": [
    "X_star = 50\n",
    "pred_50 = predict(X_star, beta)\n",
    "print(pred_50[0])"
   ]
  },
  {
   "attachments": {},
   "cell_type": "markdown",
   "metadata": {},
   "source": [
    "Based on the estimated coefficient we would expect 9,409 widgets to sell next year, if the company decides to spent 50.000$ on TV ads."
   ]
  },
  {
   "cell_type": "code",
   "execution_count": 114,
   "metadata": {},
   "outputs": [
    {
     "data": {
      "text/plain": [
       "[<matplotlib.lines.Line2D at 0x1f679895ed0>]"
      ]
     },
     "execution_count": 114,
     "metadata": {},
     "output_type": "execute_result"
    },
    {
     "data": {
      "image/png": "[encoded data removed]",
      "text/plain": [
       "<Figure size 640x480 with 1 Axes>"
      ]
     },
     "metadata": {},
     "output_type": "display_data"
    }
   ],
   "source": [
    "X=np.array(df[['TV']])\n",
    "Y=np.array(df[['Sales']])\n",
    "Y_pred=beta[0] + beta[1]*X \n",
    "plt.scatter(X, Y)\n",
    "plt.xlabel(\"TV ad expenses in $1000\")\n",
    "plt.ylabel(\"Sales in 1000 units\")\n",
    "plt.title(\"Relationship between Sales and TV ad expenses\")\n",
    "plt.plot(X, Y_pred, color='red')"
   ]
  },
  {
   "attachments": {},
   "cell_type": "markdown",
   "metadata": {},
   "source": [
    "To evaluate the model, we first calculate the root mean squared error and the R^2"
   ]
  },
  {
   "cell_type": "code",
   "execution_count": 115,
   "metadata": {},
   "outputs": [
    {
     "data": {
      "text/html": [
       "<div>\n",
       "<style scoped>\n",
       "    .dataframe tbody tr th:only-of-type {\n",
       "        vertical-align: middle;\n",
       "    }\n",
       "\n",
       "    .dataframe tbody tr th {\n",
       "        vertical-align: top;\n",
       "    }\n",
       "\n",
       "    .dataframe thead th {\n",
       "        text-align: right;\n",
       "    }\n",
       "</style>\n",
       "<table border=\"1\" class=\"dataframe\">\n",
       "  <thead>\n",
       "    <tr style=\"text-align: right;\">\n",
       "      <th></th>\n",
       "      <th>y_pred</th>\n",
       "    </tr>\n",
       "  </thead>\n",
       "  <tbody>\n",
       "    <tr>\n",
       "      <th>0</th>\n",
       "      <td>17.970775</td>\n",
       "    </tr>\n",
       "    <tr>\n",
       "      <th>1</th>\n",
       "      <td>9.147974</td>\n",
       "    </tr>\n",
       "    <tr>\n",
       "      <th>2</th>\n",
       "      <td>7.850224</td>\n",
       "    </tr>\n",
       "    <tr>\n",
       "      <th>3</th>\n",
       "      <td>14.234395</td>\n",
       "    </tr>\n",
       "    <tr>\n",
       "      <th>4</th>\n",
       "      <td>15.627218</td>\n",
       "    </tr>\n",
       "  </tbody>\n",
       "</table>\n",
       "</div>"
      ],
      "text/plain": [
       "      y_pred\n",
       "0  17.970775\n",
       "1   9.147974\n",
       "2   7.850224\n",
       "3  14.234395\n",
       "4  15.627218"
      ]
     },
     "execution_count": 115,
     "metadata": {},
     "output_type": "execute_result"
    }
   ],
   "source": [
    "y_predicted = pd.DataFrame({\"y_pred\":predict(X, beta)})\n",
    "y_predicted.head()"
   ]
  },
  {
   "cell_type": "code",
   "execution_count": 116,
   "metadata": {},
   "outputs": [],
   "source": [
    "def root_mean_squared_error(y_true, y_pred):\n",
    "\n",
    "    # Convert inputs to NumPy arrays\n",
    "    y_true = np.array(y_true)\n",
    "    y_pred = np.array(y_pred)\n",
    "\n",
    "    # Calculate squared errors\n",
    "    squared_errors = (y_true - y_pred) ** 2\n",
    "\n",
    "    # Calculate mean squared error\n",
    "    mean_squared_error = np.mean(squared_errors)\n",
    "\n",
    "    # Calculate RMSE\n",
    "    rmse = np.sqrt(mean_squared_error)\n",
    "\n",
    "    return rmse"
   ]
  },
  {
   "cell_type": "code",
   "execution_count": 117,
   "metadata": {},
   "outputs": [
    {
     "name": "stdout",
     "output_type": "stream",
     "text": [
      "Range of response variable: From 1.6 to 27.0\n"
     ]
    }
   ],
   "source": [
    "print(\"Range of response variable: From \" + str(df[\"Sales\"].min()) + \" to \" + str(df[\"Sales\"].max()))"
   ]
  },
  {
   "cell_type": "code",
   "execution_count": 118,
   "metadata": {},
   "outputs": [
    {
     "data": {
      "text/plain": [
       "3.2423221486546887"
      ]
     },
     "execution_count": 118,
     "metadata": {},
     "output_type": "execute_result"
    }
   ],
   "source": [
    "root_mean_squared_error(response, y_predicted[\"y_pred\"])"
   ]
  },
  {
   "attachments": {},
   "cell_type": "markdown",
   "metadata": {},
   "source": [
    "It appears that the RMSE is relatively small compared to the range of the response variable. This suggests that my predictions have a relatively low average, but still considerable difference from the actual sales values."
   ]
  },
  {
   "cell_type": "code",
   "execution_count": 119,
   "metadata": {},
   "outputs": [],
   "source": [
    "def r_squared(y_true, y_pred):\n",
    "    # Convert inputs to NumPy arrays\n",
    "    y_true = np.array(y_true)\n",
    "    y_pred = np.array(y_pred)\n",
    "\n",
    "    # Calculate the sum of squared residuals\n",
    "    ss_residuals = np.sum((y_true - y_pred) ** 2)\n",
    "\n",
    "    # Calculate the total sum of squares\n",
    "    ss_total = np.sum((y_true - np.mean(y_true)) ** 2)\n",
    "\n",
    "    # Calculate R-squared\n",
    "    r2 = 1 - (ss_residuals / ss_total)\n",
    "\n",
    "    return r2"
   ]
  },
  {
   "cell_type": "code",
   "execution_count": 120,
   "metadata": {},
   "outputs": [
    {
     "data": {
      "text/plain": [
       "0.611875050850071"
      ]
     },
     "execution_count": 120,
     "metadata": {},
     "output_type": "execute_result"
    }
   ],
   "source": [
    "r_squared(response, y_predicted[\"y_pred\"])"
   ]
  },
  {
   "attachments": {},
   "cell_type": "markdown",
   "metadata": {},
   "source": [
    "The R-Squared shows that approximately 61.18% of the variance in the response variable (Sales) can be explained by my model. This is relatively low. This is due to 2 factors: \n",
    "Firstly, as you can see in the plot above, there is an increasingly higher variance in the data as TV ad spending increases. Secondly, the model choice is quite simple."
   ]
  },
  {
   "cell_type": "code",
   "execution_count": 121,
   "metadata": {},
   "outputs": [
    {
     "name": "stdout",
     "output_type": "stream",
     "text": [
      "Confidence Interval: [3587.0, 15232.0]\n"
     ]
    }
   ],
   "source": [
    "alpha = 0.95\n",
    "residuals = Y - Y_pred\n",
    "ci = np.quantile(residuals, 1 - alpha)\n",
    "print(f\"Confidence Interval: [{round((pred_50[0] + ci) * 1000, 0)}, {round((pred_50[0] - ci) * 1000, 0)}]\")"
   ]
  },
  {
   "attachments": {},
   "cell_type": "markdown",
   "metadata": {},
   "source": [
    "Given a TV advertisement budget of 50,000 dollar, there is a 95 percent probability that the number of items sold will fall within the range of 3,587 to 15,232. This wide range undermines the persuasiveness of the estimate. However, based on the scatter plot provided, our model performs well for budgets below 100,000 dollar. Beyond that threshold, the standard deviation increases, indicating greater uncertainty in the predictions. Therefore, it would be prudent to examine a narrower confidence interval for more precise estimation."
   ]
  },
  {
   "cell_type": "code",
   "execution_count": 122,
   "metadata": {},
   "outputs": [
    {
     "name": "stdout",
     "output_type": "stream",
     "text": [
      "Interval: [6903.0, 11916.0]\n"
     ]
    }
   ],
   "source": [
    "idx = [i for i in range(0, len(X)) if X[i] <= 100]\n",
    "ci = np.quantile(residuals[idx], 1 - alpha)\n",
    "print(f\"Interval: [{round((pred_50[0] + ci) * 1000, 0)}, {round((pred_50[0] - ci) * 1000, 0)}]\")"
   ]
  },
  {
   "attachments": {},
   "cell_type": "markdown",
   "metadata": {},
   "source": [
    "By restricting our focus to expenditures equal to or below $100,000, we can anticipate that sales will fall within the range of 6,903 to 11,916. This narrower interval provides a more dependable prediction that the company can confidently rely on."
   ]
  }
 ],
 "metadata": {
  "kernelspec": {
   "display_name": "opti_env",
   "language": "python",
   "name": "opti_env"
  },
  "language_info": {
   "codemirror_mode": {
    "name": "ipython",
    "version": 3
   },
   "file_extension": ".py",
   "mimetype": "text/x-python",
   "name": "python",
   "nbconvert_exporter": "python",
   "pygments_lexer": "ipython3",
   "version": "3.11.2"
  },
  "orig_nbformat": 4
 },
 "nbformat": 4,
 "nbformat_minor": 2
}
