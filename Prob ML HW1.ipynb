{
 "cells": [
  {
   "cell_type": "code",
   "execution_count": 2,
   "metadata": {},
   "outputs": [],
   "source": [
    "import numpy as np\n",
    "import pandas as pd\n",
    "import matplotlib.pyplot as plt"
   ]
  },
  {
   "cell_type": "code",
   "execution_count": 3,
   "metadata": {},
   "outputs": [
    {
     "data": {
      "text/html": [
       "<div>\n",
       "<style scoped>\n",
       "    .dataframe tbody tr th:only-of-type {\n",
       "        vertical-align: middle;\n",
       "    }\n",
       "\n",
       "    .dataframe tbody tr th {\n",
       "        vertical-align: top;\n",
       "    }\n",
       "\n",
       "    .dataframe thead th {\n",
       "        text-align: right;\n",
       "    }\n",
       "</style>\n",
       "<table border=\"1\" class=\"dataframe\">\n",
       "  <thead>\n",
       "    <tr style=\"text-align: right;\">\n",
       "      <th></th>\n",
       "      <th>TV</th>\n",
       "      <th>Radio</th>\n",
       "      <th>Newspaper</th>\n",
       "      <th>Sales</th>\n",
       "    </tr>\n",
       "  </thead>\n",
       "  <tbody>\n",
       "    <tr>\n",
       "      <th>0</th>\n",
       "      <td>230.1</td>\n",
       "      <td>37.8</td>\n",
       "      <td>69.2</td>\n",
       "      <td>22.1</td>\n",
       "    </tr>\n",
       "    <tr>\n",
       "      <th>1</th>\n",
       "      <td>44.5</td>\n",
       "      <td>39.3</td>\n",
       "      <td>45.1</td>\n",
       "      <td>10.4</td>\n",
       "    </tr>\n",
       "    <tr>\n",
       "      <th>2</th>\n",
       "      <td>17.2</td>\n",
       "      <td>45.9</td>\n",
       "      <td>69.3</td>\n",
       "      <td>9.3</td>\n",
       "    </tr>\n",
       "    <tr>\n",
       "      <th>3</th>\n",
       "      <td>151.5</td>\n",
       "      <td>41.3</td>\n",
       "      <td>58.5</td>\n",
       "      <td>18.5</td>\n",
       "    </tr>\n",
       "    <tr>\n",
       "      <th>4</th>\n",
       "      <td>180.8</td>\n",
       "      <td>10.8</td>\n",
       "      <td>58.4</td>\n",
       "      <td>12.9</td>\n",
       "    </tr>\n",
       "  </tbody>\n",
       "</table>\n",
       "</div>"
      ],
      "text/plain": [
       "      TV  Radio  Newspaper  Sales\n",
       "0  230.1   37.8       69.2   22.1\n",
       "1   44.5   39.3       45.1   10.4\n",
       "2   17.2   45.9       69.3    9.3\n",
       "3  151.5   41.3       58.5   18.5\n",
       "4  180.8   10.8       58.4   12.9"
      ]
     },
     "execution_count": 3,
     "metadata": {},
     "output_type": "execute_result"
    }
   ],
   "source": [
    "df = pd.read_csv(\"Advertising.csv\")\n",
    "df = df.iloc[:,1:]\n",
    "df.head()"
   ]
  },
  {
   "cell_type": "code",
   "execution_count": 4,
   "metadata": {},
   "outputs": [
    {
     "data": {
      "text/html": [
       "<div>\n",
       "<style scoped>\n",
       "    .dataframe tbody tr th:only-of-type {\n",
       "        vertical-align: middle;\n",
       "    }\n",
       "\n",
       "    .dataframe tbody tr th {\n",
       "        vertical-align: top;\n",
       "    }\n",
       "\n",
       "    .dataframe thead th {\n",
       "        text-align: right;\n",
       "    }\n",
       "</style>\n",
       "<table border=\"1\" class=\"dataframe\">\n",
       "  <thead>\n",
       "    <tr style=\"text-align: right;\">\n",
       "      <th></th>\n",
       "      <th>Total Ads</th>\n",
       "    </tr>\n",
       "  </thead>\n",
       "  <tbody>\n",
       "    <tr>\n",
       "      <th>0</th>\n",
       "      <td>337.1</td>\n",
       "    </tr>\n",
       "    <tr>\n",
       "      <th>1</th>\n",
       "      <td>128.9</td>\n",
       "    </tr>\n",
       "    <tr>\n",
       "      <th>2</th>\n",
       "      <td>132.4</td>\n",
       "    </tr>\n",
       "    <tr>\n",
       "      <th>3</th>\n",
       "      <td>251.3</td>\n",
       "    </tr>\n",
       "    <tr>\n",
       "      <th>4</th>\n",
       "      <td>250.0</td>\n",
       "    </tr>\n",
       "  </tbody>\n",
       "</table>\n",
       "</div>"
      ],
      "text/plain": [
       "   Total Ads\n",
       "0      337.1\n",
       "1      128.9\n",
       "2      132.4\n",
       "3      251.3\n",
       "4      250.0"
      ]
     },
     "execution_count": 4,
     "metadata": {},
     "output_type": "execute_result"
    }
   ],
   "source": [
    "features = df[['TV', 'Radio', 'Newspaper']]\n",
    "response = df['Sales']\n",
    "total_ads = pd.DataFrame(features.sum(axis=1), columns=['Total Ads'])\n",
    "total_ads.head()"
   ]
  },
  {
   "attachments": {},
   "cell_type": "markdown",
   "metadata": {},
   "source": [
    "In order to determine the relationship between total ads and sales, I calculate the pearson correlation coefficient."
   ]
  },
  {
   "cell_type": "code",
   "execution_count": 5,
   "metadata": {},
   "outputs": [],
   "source": [
    "def pearson_correlation(x, y):\n",
    "    # Calculate the means\n",
    "    mean_x = np.mean(x)\n",
    "    mean_y = np.mean(y)\n",
    "    \n",
    "    # Calculate the differences from the means\n",
    "    diff_x = x - mean_x\n",
    "    diff_y = y - mean_y\n",
    "    \n",
    "    # Calculate the covariance and standard deviations\n",
    "    covariance = np.sum(diff_x * diff_y)\n",
    "    std_x = np.sqrt(np.sum(diff_x**2))\n",
    "    std_y = np.sqrt(np.sum(diff_y**2))\n",
    "    \n",
    "    # Calculate the correlation coefficient\n",
    "    correlation = covariance / (std_x * std_y)\n",
    "    \n",
    "    return correlation"
   ]
  },
  {
   "cell_type": "code",
   "execution_count": 6,
   "metadata": {},
   "outputs": [
    {
     "data": {
      "text/plain": [
       "0.867712302701742"
      ]
     },
     "execution_count": 6,
     "metadata": {},
     "output_type": "execute_result"
    }
   ],
   "source": [
    "pearson_correlation(total_ads[\"Total Ads\"], response)"
   ]
  },
  {
   "attachments": {},
   "cell_type": "markdown",
   "metadata": {},
   "source": [
    "Ex 4 b)\n",
    "\n",
    "The correlation coefficient r = 0.87 is positive and greater than 0.7. Therefore we can assume a strong positive relationship between total ads and sales. So: As the total ad expenses increase, the sales also tend to increase."
   ]
  },
  {
   "attachments": {},
   "cell_type": "markdown",
   "metadata": {},
   "source": [
    "Furthermore I will perform a linear regression analysis using MLE:\n",
    "As shown in the lecture the coefficient can be derived by the following formula:"
   ]
  },
  {
   "cell_type": "code",
   "execution_count": 7,
   "metadata": {},
   "outputs": [],
   "source": [
    "def fit_model(X, Y):\n",
    "    XTX = np.dot(X.T, X)\n",
    "    XTY = np.dot(X.T, Y)\n",
    "    beta = np.dot(np.linalg.inv(XTX), XTY)\n",
    "\n",
    "    return beta"
   ]
  },
  {
   "cell_type": "code",
   "execution_count": 9,
   "metadata": {},
   "outputs": [],
   "source": [
    "X = total_ads[['Total Ads']]\n",
    "Y = df['Sales']\n",
    "X.insert(0, 'Intercept', 1)"
   ]
  },
  {
   "cell_type": "code",
   "execution_count": 10,
   "metadata": {},
   "outputs": [
    {
     "data": {
      "text/plain": [
       "array([4.24302822, 0.04868788])"
      ]
     },
     "execution_count": 10,
     "metadata": {},
     "output_type": "execute_result"
    }
   ],
   "source": [
    "fit_model(X,Y)"
   ]
  },
  {
   "attachments": {},
   "cell_type": "markdown",
   "metadata": {},
   "source": [
    "Also the estimate coefficient for TV ad expense is positive. \n",
    "\n",
    "Interpretation: \n",
    "If we would not spent any money on ads, we would sell around 4.243028 units\n",
    "\n",
    "If we increase our ad expenses by 1 unit, our sales would increase by 0.048688.\n",
    "\n",
    "Or state it like that: An additional $1,000 spent ads is associated with an increase in sales of 48.688 sales.\n",
    "\n",
    "So we find a postive relationship between ad expenses and sales."
   ]
  },
  {
   "attachments": {},
   "cell_type": "markdown",
   "metadata": {},
   "source": [
    "Ex. 4 c)\n",
    "\n",
    "In order to find the strongest and weakest relationship between the different types of ads and sales. We calculate the correlation between each of them"
   ]
  },
  {
   "cell_type": "code",
   "execution_count": 12,
   "metadata": {},
   "outputs": [
    {
     "name": "stdout",
     "output_type": "stream",
     "text": [
      "TV: r = 0.7822244248616063\n",
      "Radio: r = 0.5762225745710553\n",
      "Newspaper: r = 0.22829902637616534\n"
     ]
    }
   ],
   "source": [
    "for ad in features.columns.tolist():\n",
    "    print(ad + \": r = \" + str(pearson_correlation(features[ad], response)))"
   ]
  },
  {
   "attachments": {},
   "cell_type": "markdown",
   "metadata": {},
   "source": [
    "All kind of ads are positively correlated with sales, so we can assume that higher ad expenses will lead to more sales. \n",
    "The TV ads have the strongest relationship with sales, while Newspaper ads have the weakest relationship with sales."
   ]
  },
  {
   "attachments": {},
   "cell_type": "markdown",
   "metadata": {},
   "source": [
    "Ex 4 d)\n",
    "\n",
    "I will predict the sales for the upcoming years, if the company will spend 50.000$ in TV ads.\n",
    "First I will estimate the coefficients using the MLE from above and based on these make a prediction.\n",
    "Afterwards I will evaluate the model. "
   ]
  },
  {
   "cell_type": "code",
   "execution_count": 14,
   "metadata": {},
   "outputs": [],
   "source": [
    "X = df[['TV', 'Radio', 'Newspaper']]\n",
    "Y = df['Sales']\n",
    "X.insert(0, 'Intercept', 1)"
   ]
  },
  {
   "cell_type": "code",
   "execution_count": 16,
   "metadata": {},
   "outputs": [
    {
     "name": "stdout",
     "output_type": "stream",
     "text": [
      "Regression Coefficients:\n",
      "Intercept: 2.9388893694594316\n",
      "TV: 0.04576464545539749\n",
      "Radio: 0.18853001691820437\n",
      "Newspaper: -0.0010374930424765783\n"
     ]
    }
   ],
   "source": [
    "# Estimate the coefficients\n",
    "beta = fit_model(X, Y)\n",
    "\n",
    "# Print the regression coefficients and log-likelihood\n",
    "print(\"Regression Coefficients:\")\n",
    "print(f\"Intercept: {beta[0]}\")\n",
    "print(f\"TV: {beta[1]}\")\n",
    "print(f\"Radio: {beta[2]}\")\n",
    "print(f\"Newspaper: {beta[3]}\")"
   ]
  },
  {
   "cell_type": "code",
   "execution_count": 17,
   "metadata": {},
   "outputs": [],
   "source": [
    "def predict(X, coefficients):\n",
    "        return coefficients[0] + np.dot(X, coefficients[1:])"
   ]
  },
  {
   "cell_type": "code",
   "execution_count": 18,
   "metadata": {},
   "outputs": [
    {
     "data": {
      "text/plain": [
       "5.2271216422293065"
      ]
     },
     "execution_count": 18,
     "metadata": {},
     "output_type": "execute_result"
    }
   ],
   "source": [
    "X = [50, 0, 0]\n",
    "predict(X, beta)"
   ]
  },
  {
   "attachments": {},
   "cell_type": "markdown",
   "metadata": {},
   "source": [
    "Based on the estimated coefficient we would expect 5277 widgets to sell next year, if the company decides to spent 50.000$ on TV ads."
   ]
  },
  {
   "attachments": {},
   "cell_type": "markdown",
   "metadata": {},
   "source": [
    "To evaluate the model, we first calculate the root mean squared error and the R^2"
   ]
  },
  {
   "cell_type": "code",
   "execution_count": 19,
   "metadata": {},
   "outputs": [],
   "source": [
    "y_predicted = pd.DataFrame({\"y_pred\":predict(features, beta)})"
   ]
  },
  {
   "cell_type": "code",
   "execution_count": 20,
   "metadata": {},
   "outputs": [],
   "source": [
    "def root_mean_squared_error(y_true, y_pred):\n",
    "\n",
    "    # Convert inputs to NumPy arrays\n",
    "    y_true = np.array(y_true)\n",
    "    y_pred = np.array(y_pred)\n",
    "\n",
    "    # Calculate squared errors\n",
    "    squared_errors = (y_true - y_pred) ** 2\n",
    "\n",
    "    # Calculate mean squared error\n",
    "    mean_squared_error = np.mean(squared_errors)\n",
    "\n",
    "    # Calculate RMSE\n",
    "    rmse = np.sqrt(mean_squared_error)\n",
    "\n",
    "    return rmse"
   ]
  },
  {
   "cell_type": "code",
   "execution_count": 21,
   "metadata": {},
   "outputs": [
    {
     "name": "stdout",
     "output_type": "stream",
     "text": [
      "Range of response variable: From 1.6 to 27.0\n"
     ]
    }
   ],
   "source": [
    "print(\"Range of response variable: From \" + str(df[\"Sales\"].min()) + \" to \" + str(df[\"Sales\"].max()))"
   ]
  },
  {
   "cell_type": "code",
   "execution_count": 22,
   "metadata": {},
   "outputs": [
    {
     "data": {
      "text/plain": [
       "1.6685701407225697"
      ]
     },
     "execution_count": 22,
     "metadata": {},
     "output_type": "execute_result"
    }
   ],
   "source": [
    "root_mean_squared_error(response, y_predicted[\"y_pred\"])"
   ]
  },
  {
   "attachments": {},
   "cell_type": "markdown",
   "metadata": {},
   "source": [
    "It appears that the RMSE is relatively small compared to the range of the response variable. This suggests that my predictions have a relatively low average difference from the actual sales values."
   ]
  },
  {
   "cell_type": "code",
   "execution_count": 23,
   "metadata": {},
   "outputs": [],
   "source": [
    "def r_squared(y_true, y_pred):\n",
    "    # Convert inputs to NumPy arrays\n",
    "    y_true = np.array(y_true)\n",
    "    y_pred = np.array(y_pred)\n",
    "\n",
    "    # Calculate the sum of squared residuals\n",
    "    ss_residuals = np.sum((y_true - y_pred) ** 2)\n",
    "\n",
    "    # Calculate the total sum of squares\n",
    "    ss_total = np.sum((y_true - np.mean(y_true)) ** 2)\n",
    "\n",
    "    # Calculate R-squared\n",
    "    r2 = 1 - (ss_residuals / ss_total)\n",
    "\n",
    "    return r2"
   ]
  },
  {
   "cell_type": "code",
   "execution_count": 24,
   "metadata": {},
   "outputs": [
    {
     "data": {
      "text/plain": [
       "0.8972106381789522"
      ]
     },
     "execution_count": 24,
     "metadata": {},
     "output_type": "execute_result"
    }
   ],
   "source": [
    "r_squared(response, y_predicted[\"y_pred\"])"
   ]
  },
  {
   "attachments": {},
   "cell_type": "markdown",
   "metadata": {},
   "source": [
    "The R-Squared shows that approximately 89.72% of tthe variance in the response variable (Sales) can be explained by my model. This suggests that my model is able to capture a significant portion if the variability in the data and provides a good fit."
   ]
  },
  {
   "attachments": {},
   "cell_type": "markdown",
   "metadata": {},
   "source": []
  }
 ],
 "metadata": {
  "kernelspec": {
   "display_name": "opti_env",
   "language": "python",
   "name": "opti_env"
  },
  "language_info": {
   "codemirror_mode": {
    "name": "ipython",
    "version": 3
   },
   "file_extension": ".py",
   "mimetype": "text/x-python",
   "name": "python",
   "nbconvert_exporter": "python",
   "pygments_lexer": "ipython3",
   "version": "3.11.2"
  },
  "orig_nbformat": 4
 },
 "nbformat": 4,
 "nbformat_minor": 2
}
