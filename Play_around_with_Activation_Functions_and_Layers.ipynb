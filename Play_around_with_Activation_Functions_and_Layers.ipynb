{
  "cells": [
    {
      "cell_type": "markdown",
      "metadata": {
        "id": "view-in-github",
        "colab_type": "text"
      },
      "source": [
        "<a href=\"https://colab.research.google.com/github/bastiloeblein/ProbML_HW/blob/main/Play_around_with_Activation_Functions_and_Layers.ipynb\" target=\"_parent\"><img src=\"https://colab.research.google.com/assets/colab-badge.svg\" alt=\"Open In Colab\"/></a>"
      ]
    },
    {
      "cell_type": "markdown",
      "metadata": {
        "id": "uujRJuZxp5X9"
      },
      "source": [
        "# Propagating Gradients Backwards\n",
        "---"
      ]
    },
    {
      "cell_type": "markdown",
      "metadata": {
        "toc": true,
        "id": "QaAd4aWNp5YD"
      },
      "source": [
        "<h1>Table of Contents<span class=\"tocSkip\"></span></h1>\n",
        "<div class=\"toc\"><ul class=\"toc-item\"><li><span><a href=\"#Propagating-Gradients-Backwards\" data-toc-modified-id=\"Propagating-Gradients-Backwards-1\"><span class=\"toc-item-num\">1&nbsp;&nbsp;</span>Propagating Gradients Backwards</a></span><ul class=\"toc-item\"><li><span><a href=\"#Import-Libraries\" data-toc-modified-id=\"Import-Libraries-1.1\"><span class=\"toc-item-num\">1.1&nbsp;&nbsp;</span>Import Libraries</a></span></li><li><span><a href=\"#Unit-Tests\" data-toc-modified-id=\"Unit-Tests-1.2\"><span class=\"toc-item-num\">1.2&nbsp;&nbsp;</span>Unit Tests</a></span></li><li><span><a href=\"#Load-Data\" data-toc-modified-id=\"Load-Data-1.3\"><span class=\"toc-item-num\">1.3&nbsp;&nbsp;</span>Load Data</a></span></li><li><span><a href=\"#Normalize-Data\" data-toc-modified-id=\"Normalize-Data-1.4\"><span class=\"toc-item-num\">1.4&nbsp;&nbsp;</span>Normalize Data</a></span></li></ul></li><li><span><a href=\"#Backpropagation-from-scratch\" data-toc-modified-id=\"Backpropagation-from-scratch-2\"><span class=\"toc-item-num\">2&nbsp;&nbsp;</span>Backpropagation from scratch</a></span><ul class=\"toc-item\"><li><span><a href=\"#Linear-Layer\" data-toc-modified-id=\"Linear-Layer-2.1\"><span class=\"toc-item-num\">2.1&nbsp;&nbsp;</span>Linear Layer</a></span></li><li><span><a href=\"#Activation-Layer\" data-toc-modified-id=\"Activation-Layer-2.2\"><span class=\"toc-item-num\">2.2&nbsp;&nbsp;</span>Activation Layer</a></span></li><li><span><a href=\"#Loss-Layer\" data-toc-modified-id=\"Loss-Layer-2.3\"><span class=\"toc-item-num\">2.3&nbsp;&nbsp;</span>Loss Layer</a></span></li><li><span><a href=\"#Feedforward-Network\" data-toc-modified-id=\"Feedforward-Network-2.4\"><span class=\"toc-item-num\">2.4&nbsp;&nbsp;</span>Feedforward Network</a></span></li></ul></li><li><span><a href=\"#Refactor-&amp;-Redesign\" data-toc-modified-id=\"Refactor-&amp;-Redesign-3\"><span class=\"toc-item-num\">3&nbsp;&nbsp;</span>Refactor &amp; Redesign</a></span><ul class=\"toc-item\"><li><span><a href=\"#Abstract-Layer-Class\" data-toc-modified-id=\"Abstract-Layer-Class-3.1\"><span class=\"toc-item-num\">3.1&nbsp;&nbsp;</span>Abstract Layer Class</a></span></li><li><span><a href=\"#Linear-Layer\" data-toc-modified-id=\"Linear-Layer-3.2\"><span class=\"toc-item-num\">3.2&nbsp;&nbsp;</span>Linear Layer</a></span></li><li><span><a href=\"#Activation-Layer\" data-toc-modified-id=\"Activation-Layer-3.3\"><span class=\"toc-item-num\">3.3&nbsp;&nbsp;</span>Activation Layer</a></span></li><li><span><a href=\"#Loss-Layer\" data-toc-modified-id=\"Loss-Layer-3.4\"><span class=\"toc-item-num\">3.4&nbsp;&nbsp;</span>Loss Layer</a></span></li><li><span><a href=\"#Feedforward-Network\" data-toc-modified-id=\"Feedforward-Network-3.5\"><span class=\"toc-item-num\">3.5&nbsp;&nbsp;</span>Feedforward Network</a></span></li></ul></li><li><span><a href=\"#Comparison-with-PyTorch's-Autograd\" data-toc-modified-id=\"Comparison-with-PyTorch's-Autograd-4\"><span class=\"toc-item-num\">4&nbsp;&nbsp;</span>Comparison with PyTorch's Autograd</a></span><ul class=\"toc-item\"><li><span><a href=\"#PyTorch's-Performance\" data-toc-modified-id=\"PyTorch's-Performance-4.1\"><span class=\"toc-item-num\">4.1&nbsp;&nbsp;</span>PyTorch's Performance</a></span></li><li><span><a href=\"#Our-Model's-Performance\" data-toc-modified-id=\"Our-Model's-Performance-4.2\"><span class=\"toc-item-num\">4.2&nbsp;&nbsp;</span>Our Model's Performance</a></span></li></ul></li></ul></div>"
      ]
    },
    {
      "cell_type": "markdown",
      "metadata": {
        "id": "1YZ9ZblTp5YF"
      },
      "source": [
        "## Import Libraries"
      ]
    },
    {
      "cell_type": "code",
      "execution_count": null,
      "metadata": {
        "id": "-jTBXQ2kp5YG"
      },
      "outputs": [],
      "source": [
        "import math\n",
        "import operator\n",
        "\n",
        "import torch\n",
        "from torchvision.datasets import MNIST\n",
        "\n",
        "import time\n",
        "\n",
        "import matplotlib.pyplot as plt\n",
        "%matplotlib inline"
      ]
    },
    {
      "cell_type": "markdown",
      "metadata": {
        "id": "G5CGYElip5YI"
      },
      "source": [
        "## Unit Tests"
      ]
    },
    {
      "cell_type": "code",
      "execution_count": null,
      "metadata": {
        "id": "t6Pfejczp5YJ"
      },
      "outputs": [],
      "source": [
        "def test(a, b, compare, compare_name=None):\n",
        "    if compare_name is None:\n",
        "        compare_name = compare.__name__\n",
        "    assert compare(a, b),\\\n",
        "    f\"{compare_name} check failed:\\n{a}\\n{b}\"\n",
        "\n",
        "def test_zero(x, tol=1e-3):\n",
        "    test(x, tol, operator.le, f\"Zero (less than tolerance: {tol})\")\n",
        "\n",
        "def test_equality(a, b):\n",
        "    test(a, b, operator.eq, \"Equality\")\n",
        "\n",
        "def test_approximately(a, b):\n",
        "    allclose = partial(torch.allclose, atol=1e-5, rtol=1e-03)\n",
        "    if not isinstance(a, torch.Tensor) or not isinstance(b, torch.Tensor):\n",
        "        a = torch.tensor(a)\n",
        "        b = torch.tensor(b)\n",
        "    test(a, b, allclose, \"Approximate Equality\")"
      ]
    },
    {
      "cell_type": "markdown",
      "metadata": {
        "id": "7VrR5iDYp5YJ"
      },
      "source": [
        "## Load Data"
      ]
    },
    {
      "cell_type": "code",
      "execution_count": null,
      "metadata": {
        "colab": {
          "base_uri": "https://localhost:8080/"
        },
        "id": "GJ6gkh29p5YK",
        "outputId": "700f21b8-b1f2-48d4-8d22-c4eb7617806e"
      },
      "outputs": [
        {
          "output_type": "stream",
          "name": "stdout",
          "text": [
            "Downloading http://yann.lecun.com/exdb/mnist/train-images-idx3-ubyte.gz\n",
            "Downloading http://yann.lecun.com/exdb/mnist/train-images-idx3-ubyte.gz to ../data/MNIST/raw/train-images-idx3-ubyte.gz\n"
          ]
        },
        {
          "output_type": "stream",
          "name": "stderr",
          "text": [
            "100%|██████████| 9912422/9912422 [00:00<00:00, 107414957.60it/s]\n"
          ]
        },
        {
          "output_type": "stream",
          "name": "stdout",
          "text": [
            "Extracting ../data/MNIST/raw/train-images-idx3-ubyte.gz to ../data/MNIST/raw\n",
            "\n",
            "Downloading http://yann.lecun.com/exdb/mnist/train-labels-idx1-ubyte.gz\n",
            "Downloading http://yann.lecun.com/exdb/mnist/train-labels-idx1-ubyte.gz to ../data/MNIST/raw/train-labels-idx1-ubyte.gz\n"
          ]
        },
        {
          "output_type": "stream",
          "name": "stderr",
          "text": [
            "100%|██████████| 28881/28881 [00:00<00:00, 40868992.52it/s]\n"
          ]
        },
        {
          "output_type": "stream",
          "name": "stdout",
          "text": [
            "Extracting ../data/MNIST/raw/train-labels-idx1-ubyte.gz to ../data/MNIST/raw\n",
            "\n",
            "Downloading http://yann.lecun.com/exdb/mnist/t10k-images-idx3-ubyte.gz\n",
            "Downloading http://yann.lecun.com/exdb/mnist/t10k-images-idx3-ubyte.gz to ../data/MNIST/raw/t10k-images-idx3-ubyte.gz\n"
          ]
        },
        {
          "output_type": "stream",
          "name": "stderr",
          "text": [
            "100%|██████████| 1648877/1648877 [00:00<00:00, 38669317.33it/s]\n"
          ]
        },
        {
          "output_type": "stream",
          "name": "stdout",
          "text": [
            "Extracting ../data/MNIST/raw/t10k-images-idx3-ubyte.gz to ../data/MNIST/raw\n",
            "\n",
            "Downloading http://yann.lecun.com/exdb/mnist/t10k-labels-idx1-ubyte.gz\n",
            "Downloading http://yann.lecun.com/exdb/mnist/t10k-labels-idx1-ubyte.gz to ../data/MNIST/raw/t10k-labels-idx1-ubyte.gz\n"
          ]
        },
        {
          "output_type": "stream",
          "name": "stderr",
          "text": [
            "100%|██████████| 4542/4542 [00:00<00:00, 11088782.75it/s]\n"
          ]
        },
        {
          "output_type": "stream",
          "name": "stdout",
          "text": [
            "Extracting ../data/MNIST/raw/t10k-labels-idx1-ubyte.gz to ../data/MNIST/raw\n",
            "\n"
          ]
        }
      ],
      "source": [
        "dataset = MNIST(root=\"../data/\", download = True)"
      ]
    },
    {
      "cell_type": "code",
      "execution_count": null,
      "metadata": {
        "colab": {
          "base_uri": "https://localhost:8080/"
        },
        "id": "H6AaUVQmp5YL",
        "outputId": "0dccf418-e6e2-4b23-fffb-e40387070ff3"
      },
      "outputs": [
        {
          "output_type": "execute_result",
          "data": {
            "text/plain": [
              "(torch.Size([50000, 28, 28]), torch.Size([10000, 28, 28]))"
            ]
          },
          "metadata": {},
          "execution_count": 5
        }
      ],
      "source": [
        "x, y = dataset.data.float(), dataset.targets\n",
        "x_train, x_test = x[:50000], x[50000:]\n",
        "y_train, y_test = y[:50000], y[50000:]\n",
        "\n",
        "x_train.shape, x_test.shape"
      ]
    },
    {
      "cell_type": "code",
      "execution_count": null,
      "metadata": {
        "colab": {
          "base_uri": "https://localhost:8080/",
          "height": 447
        },
        "id": "F3NzGwf_p5YM",
        "outputId": "8ee0599a-8356-4fe5-efdb-689c4bd7bfd7"
      },
      "outputs": [
        {
          "output_type": "execute_result",
          "data": {
            "text/plain": [
              "<matplotlib.image.AxesImage at 0x7fb80f2f4820>"
            ]
          },
          "metadata": {},
          "execution_count": 6
        },
        {
          "output_type": "display_data",
          "data": {
            "text/plain": [
              "<Figure size 640x480 with 1 Axes>"
            ],
            "image/png": "[encoded data removed]"
          },
          "metadata": {}
        }
      ],
      "source": [
        "plt.imshow(x_train[0])"
      ]
    },
    {
      "cell_type": "markdown",
      "metadata": {
        "id": "tdDMSkbAp5YM"
      },
      "source": [
        "**Flatten**"
      ]
    },
    {
      "cell_type": "code",
      "execution_count": null,
      "metadata": {
        "id": "U1dpi5x4p5YN"
      },
      "outputs": [],
      "source": [
        "x_train = x_train.reshape(x_train.shape[0],x_train.shape[1]*x_train.shape[2])\n",
        "x_test = x_test.reshape(x_test.shape[0],x_test.shape[1]*x_test.shape[2])"
      ]
    },
    {
      "cell_type": "code",
      "execution_count": null,
      "metadata": {
        "colab": {
          "base_uri": "https://localhost:8080/"
        },
        "id": "2ggZqwRmp5YN",
        "outputId": "89b30cdd-c8be-4b8c-cb6c-9d901030f8b4"
      },
      "outputs": [
        {
          "output_type": "execute_result",
          "data": {
            "text/plain": [
              "(50000, 784, 9)"
            ]
          },
          "metadata": {},
          "execution_count": 8
        }
      ],
      "source": [
        "n, m = x_train.shape\n",
        "c = (y_train.max() - y_train.min()).item()\n",
        "n, m, c"
      ]
    },
    {
      "cell_type": "markdown",
      "metadata": {
        "id": "1VvLyYhSp5YO"
      },
      "source": [
        "## Normalize Data"
      ]
    },
    {
      "cell_type": "code",
      "execution_count": null,
      "metadata": {
        "id": "rI9OsDY0p5YP"
      },
      "outputs": [],
      "source": [
        "def normalize(x, mean, std): return (x-mean)/std"
      ]
    },
    {
      "cell_type": "code",
      "execution_count": null,
      "metadata": {
        "id": "BCur0coRp5YP"
      },
      "outputs": [],
      "source": [
        "train_mean = x_train.mean()\n",
        "train_std = x_train.std()"
      ]
    },
    {
      "cell_type": "code",
      "execution_count": null,
      "metadata": {
        "id": "QeQBPBjjp5YQ"
      },
      "outputs": [],
      "source": [
        "x_train = normalize(x_train, train_mean, train_std)\n",
        "x_test = normalize(x_test, train_mean, train_std)"
      ]
    },
    {
      "cell_type": "code",
      "execution_count": null,
      "metadata": {
        "colab": {
          "base_uri": "https://localhost:8080/",
          "height": 447
        },
        "id": "xyroiv1qp5YQ",
        "outputId": "30318e13-7bac-45d8-9b1a-99e34e92b0ac"
      },
      "outputs": [
        {
          "output_type": "execute_result",
          "data": {
            "text/plain": [
              "<matplotlib.image.AxesImage at 0x7fb80d222aa0>"
            ]
          },
          "metadata": {},
          "execution_count": 12
        },
        {
          "output_type": "display_data",
          "data": {
            "text/plain": [
              "<Figure size 640x480 with 1 Axes>"
            ],
            "image/png": "[encoded data removed]"
          },
          "metadata": {}
        }
      ],
      "source": [
        "plt.imshow(x_test[0].view(28,28))"
      ]
    },
    {
      "cell_type": "markdown",
      "metadata": {
        "id": "23H3XY6op5YQ"
      },
      "source": [
        "# Backpropagation from scratch"
      ]
    },
    {
      "cell_type": "markdown",
      "metadata": {
        "id": "fXGw6RZwp5YR"
      },
      "source": [
        "## Linear Layer"
      ]
    },
    {
      "cell_type": "code",
      "execution_count": null,
      "metadata": {
        "id": "C3lal_e_p5YR"
      },
      "outputs": [],
      "source": [
        "class Linear():\n",
        "    '''Affine layer with weight and bias initialized using Kaiming initialization'''\n",
        "    def __init__(self, in_size, out_size):\n",
        "        self.weight = torch.randn(in_size, out_size) * math.sqrt(2/in_size)\n",
        "        self.bias = torch.zeros(out_size)\n",
        "\n",
        "    def __repr__(self):\n",
        "        return f\"(Linear: in={self.weight.shape[0]} out={self.weight.shape[1]})\"\n",
        "\n",
        "    def forward(self, x):\n",
        "        self.x = x\n",
        "        self.y = self.x@self.weight + self.bias\n",
        "        return self.y\n",
        "\n",
        "    def backward(self):\n",
        "        self.weight.g = self.x.t() @ self.y.g\n",
        "        self.bias.g = self.y.g\n",
        "        self.x.g = self.y.g @ self.weight.t()"
      ]
    },
    {
      "cell_type": "markdown",
      "metadata": {
        "id": "V87CfN2zp5YR"
      },
      "source": [
        "## Activation Layer"
      ]
    },
    {
      "cell_type": "code",
      "execution_count": null,
      "metadata": {
        "id": "TPciIQmYp5YR"
      },
      "outputs": [],
      "source": [
        "class ReLU():\n",
        "    '''Rectified Linear Unit Layer'''\n",
        "\n",
        "    def __init__(self, shift=0.):\n",
        "        self.shift = shift\n",
        "\n",
        "    def __repr__(self):\n",
        "        return f\"(ReLU: shift={self.shift})\"\n",
        "\n",
        "    def forward(self, x):\n",
        "        self.x = x\n",
        "        self.y = self.x.clamp_min(0.) - self.shift\n",
        "        return self.y\n",
        "\n",
        "    def backward(self):\n",
        "        self.x.g = self.y.g * (self.x>0).float()"
      ]
    },
    {
      "cell_type": "markdown",
      "metadata": {
        "id": "boBzxzpAp5YR"
      },
      "source": [
        "## Loss Layer"
      ]
    },
    {
      "cell_type": "code",
      "execution_count": null,
      "metadata": {
        "id": "_qWdzrhop5YS"
      },
      "outputs": [],
      "source": [
        "class MSE():\n",
        "    '''Mean Squared Error Layer'''\n",
        "\n",
        "    def __repr__(self):\n",
        "        return \"Loss: Mean Squared Error\"\n",
        "\n",
        "    def forward(self, y_pred, y_true):\n",
        "        self.x1 = y_pred\n",
        "        self.x2 = y_true\n",
        "        self.y = (self.x1-self.x2).pow(2).mean()\n",
        "        return self.y\n",
        "\n",
        "    def backward(self):\n",
        "        self.x1.g = 2 * (self.x1-self.x2) / self.x1.shape[0]"
      ]
    },
    {
      "cell_type": "markdown",
      "metadata": {
        "id": "TNK8jC6Sp5YS"
      },
      "source": [
        "## Feedforward Network"
      ]
    },
    {
      "cell_type": "code",
      "execution_count": null,
      "metadata": {
        "id": "jO6iJWBup5YS"
      },
      "outputs": [],
      "source": [
        "class FeedForwardNN():\n",
        "    '''Feedforward neural network'''\n",
        "\n",
        "    def __init__(self, x_dim, y_dim, n_layers):\n",
        "        # get an exponentially spaced array of layer dimensions\n",
        "        def _exp(pos): return math.ceil(x_dim * (y_dim/x_dim)**pos)\n",
        "        layer_dims  = [_exp(pos/n_layers) for pos in range(0, n_layers+1)]\n",
        "        # construct the list of layers\n",
        "        self.layers = []\n",
        "        for i in range(n_layers):\n",
        "            in_dim, out_dim = layer_dims[i], layer_dims[i+1]\n",
        "            self.layers.append(Linear(in_dim, out_dim))\n",
        "            self.layers.append(ReLU())\n",
        "        self.loss = MSE()\n",
        "\n",
        "    def __repr__(self):\n",
        "        model_str = \"\\n\".join(l.__repr__() for l in self.layers)\n",
        "        model_str += \"\\n\" + self.loss.__repr__()\n",
        "        return model_str\n",
        "\n",
        "    def forward(self, x):\n",
        "        for l in self.layers:\n",
        "            x = l.forward(x)\n",
        "        return x\n",
        "\n",
        "    def backward(self):\n",
        "        self.loss.backward()\n",
        "        for layer in reversed(self.layers):\n",
        "            layer.backward()"
      ]
    },
    {
      "cell_type": "code",
      "execution_count": null,
      "metadata": {
        "colab": {
          "base_uri": "https://localhost:8080/"
        },
        "id": "Pfod2SQCp5YS",
        "outputId": "5e4e5393-275d-45be-a9c5-846d1a1eae38"
      },
      "outputs": [
        {
          "output_type": "execute_result",
          "data": {
            "text/plain": [
              "(Linear: in=784 out=207)\n",
              "(ReLU: shift=0.0)\n",
              "(Linear: in=207 out=55)\n",
              "(ReLU: shift=0.0)\n",
              "(Linear: in=55 out=15)\n",
              "(ReLU: shift=0.0)\n",
              "(Linear: in=15 out=4)\n",
              "(ReLU: shift=0.0)\n",
              "(Linear: in=4 out=1)\n",
              "(ReLU: shift=0.0)\n",
              "Loss: Mean Squared Error"
            ]
          },
          "metadata": {},
          "execution_count": 17
        }
      ],
      "source": [
        "model = FeedForwardNN(x_dim=784, y_dim=1, n_layers=5)\n",
        "model"
      ]
    },
    {
      "cell_type": "code",
      "execution_count": null,
      "metadata": {
        "id": "D0bsEtl9p5YT"
      },
      "outputs": [],
      "source": [
        "y_pred = model.forward(x_train)\n",
        "loss = model.loss.forward(y_pred.float(), y_train.unsqueeze(-1).float())\n",
        "model.backward()"
      ]
    },
    {
      "cell_type": "markdown",
      "metadata": {
        "id": "oxQCd65Kp5YT"
      },
      "source": [
        "# Refactor & Redesign"
      ]
    },
    {
      "cell_type": "markdown",
      "metadata": {
        "id": "MecPYGP0p5YT"
      },
      "source": [
        "## Abstract Layer Class"
      ]
    },
    {
      "cell_type": "code",
      "execution_count": null,
      "metadata": {
        "id": "llVbRS6yp5YT"
      },
      "outputs": [],
      "source": [
        "class Layer():\n",
        "    '''Abstract Layer class like PyTorch's nn.Module'''\n",
        "\n",
        "    def __call__(self, *args):\n",
        "        self.args = args\n",
        "        self.y = self.forward(*self.args)\n",
        "        return self.y\n",
        "\n",
        "    def __repr__(self):\n",
        "        raise NotImplementedError(\"__repr__ method not implemented\")\n",
        "\n",
        "    def forward(self, *args):\n",
        "        raise NotImplementedError(\"forward method not implemented\")\n",
        "\n",
        "    def backward(self):\n",
        "        raise NotImplementedError(\"backward method not implemented\")"
      ]
    },
    {
      "cell_type": "markdown",
      "metadata": {
        "id": "nn4vypl3p5YT"
      },
      "source": [
        "## Linear Layer"
      ]
    },
    {
      "cell_type": "code",
      "execution_count": null,
      "metadata": {
        "id": "w9ShWnytp5YT"
      },
      "outputs": [],
      "source": [
        "class Linear(Layer):\n",
        "    '''Affine layer with weight and bias initialized using Kaiming initialization'''\n",
        "    def __init__(self, in_size, out_size):\n",
        "        self.weight = torch.randn(in_size, out_size) * math.sqrt(2/in_size)\n",
        "        self.bias = torch.zeros(out_size)\n",
        "\n",
        "    def __repr__(self):\n",
        "        return f\"(Linear: in={self.weight.shape[0]} out={self.weight.shape[1]})\"\n",
        "\n",
        "    def forward(self, x):\n",
        "        return x@self.weight + self.bias\n",
        "\n",
        "    def backward(self):\n",
        "        self.weight.g = self.args[0].t() @ self.y.g\n",
        "        self.bias.g = self.y.g\n",
        "        self.args[0].g = self.y.g @ self.weight.t()"
      ]
    },
    {
      "cell_type": "markdown",
      "metadata": {
        "id": "7C2hvIsWp5YU"
      },
      "source": [
        "## Activation Layer"
      ]
    },
    {
      "cell_type": "code",
      "execution_count": null,
      "metadata": {
        "id": "5j-1GtXop5YU"
      },
      "outputs": [],
      "source": [
        "class ReLU(Layer):\n",
        "    '''Rectified Linear Unit Layer'''\n",
        "\n",
        "    def __init__(self, shift=0.):\n",
        "        self.shift = shift\n",
        "\n",
        "    def __repr__(self):\n",
        "        return f\"(ReLU: shift={self.shift})\"\n",
        "\n",
        "    def forward(self, x):\n",
        "        return x.clamp_min(0.) - self.shift\n",
        "\n",
        "    def backward(self):\n",
        "        self.args[0].g = self.y.g * (self.args[0]>0).float()"
      ]
    },
    {
      "cell_type": "markdown",
      "metadata": {
        "id": "ITNIgi1Xp5YU"
      },
      "source": [
        "## Loss Layer"
      ]
    },
    {
      "cell_type": "code",
      "execution_count": null,
      "metadata": {
        "id": "INQT1Atep5YV"
      },
      "outputs": [],
      "source": [
        "class MSE(Layer):\n",
        "    '''Mean Squared Error Layer'''\n",
        "\n",
        "    def __repr__(self):\n",
        "        return \"Loss: Mean Squared Error\"\n",
        "\n",
        "    def forward(self, y_pred, y_true):\n",
        "        return (y_pred-y_true).pow(2).mean()\n",
        "\n",
        "    def backward(self):\n",
        "        n = self.args[0].shape[0]\n",
        "        self.args[0].g = 2 * (self.args[0] - self.args[1]) / n"
      ]
    },
    {
      "cell_type": "markdown",
      "metadata": {
        "id": "UCAjYqjBp5YV"
      },
      "source": [
        "## Feedforward Network"
      ]
    },
    {
      "cell_type": "code",
      "execution_count": null,
      "metadata": {
        "id": "DsbTc0QWp5Yb"
      },
      "outputs": [],
      "source": [
        "class FeedForwardNN(Layer):\n",
        "    '''Feedforward neural network'''\n",
        "\n",
        "    def __init__(self, x_dim, y_dim, n_layers):\n",
        "        # get an exponentially spaced array of layer dimensions\n",
        "        def _exp(pos): return math.ceil(x_dim * (y_dim/x_dim)**pos)\n",
        "        layer_dims  = [_exp(pos/n_layers) for pos in range(0, n_layers+1)]\n",
        "        # construct the list of layers\n",
        "        self.layers = []\n",
        "        for i in range(n_layers):\n",
        "            in_dim, out_dim = layer_dims[i], layer_dims[i+1]\n",
        "            self.layers.append(Linear(in_dim, out_dim))\n",
        "            self.layers.append(ReLU())\n",
        "        self.loss = MSE()\n",
        "\n",
        "    def __repr__(self):\n",
        "        model_str = \"\\n\".join(l.__repr__() for l in self.layers)\n",
        "        model_str += \"\\n\" + self.loss.__repr__()\n",
        "        return model_str\n",
        "\n",
        "    def forward(self, x):\n",
        "        for l in self.layers:\n",
        "            x = l(x)\n",
        "        return x\n",
        "\n",
        "    def backward(self):\n",
        "        self.loss.backward()\n",
        "        for layer in reversed(self.layers):\n",
        "            layer.backward()"
      ]
    },
    {
      "cell_type": "code",
      "execution_count": null,
      "metadata": {
        "colab": {
          "base_uri": "https://localhost:8080/"
        },
        "id": "Kf6ZSHbmp5Yc",
        "outputId": "1d7469be-d4e6-4910-fb75-bbee72c2598e"
      },
      "outputs": [
        {
          "output_type": "execute_result",
          "data": {
            "text/plain": [
              "(Linear: in=784 out=207)\n",
              "(ReLU: shift=0.0)\n",
              "(Linear: in=207 out=55)\n",
              "(ReLU: shift=0.0)\n",
              "(Linear: in=55 out=15)\n",
              "(ReLU: shift=0.0)\n",
              "(Linear: in=15 out=4)\n",
              "(ReLU: shift=0.0)\n",
              "(Linear: in=4 out=1)\n",
              "(ReLU: shift=0.0)\n",
              "Loss: Mean Squared Error"
            ]
          },
          "metadata": {},
          "execution_count": 25
        }
      ],
      "source": [
        "model = FeedForwardNN(x_dim=784, y_dim=1, n_layers=5)\n",
        "model"
      ]
    },
    {
      "cell_type": "code",
      "execution_count": null,
      "metadata": {
        "id": "NoBi_5-Lp5Yc"
      },
      "outputs": [],
      "source": [
        "y_pred = model(x_train)\n",
        "loss = model.loss(y_pred.float(), y_train.unsqueeze(-1).float())\n",
        "model.backward()"
      ]
    },
    {
      "cell_type": "markdown",
      "metadata": {
        "id": "Ht-TS2DDp5Yd"
      },
      "source": [
        "# Comparison with PyTorch's Autograd"
      ]
    },
    {
      "cell_type": "code",
      "execution_count": null,
      "metadata": {
        "id": "6ZoDkGXrp5Yd"
      },
      "outputs": [],
      "source": [
        "import timeit\n",
        "from functools import partial\n",
        "from torch import nn"
      ]
    },
    {
      "cell_type": "code",
      "execution_count": null,
      "metadata": {
        "colab": {
          "base_uri": "https://localhost:8080/"
        },
        "id": "VdaUGpLxp5Yd",
        "outputId": "f089c53a-8b51-45fb-ab2e-1aaee0f52f25"
      },
      "outputs": [
        {
          "output_type": "execute_result",
          "data": {
            "text/plain": [
              "<torch._C.Generator at 0x7fb8c41d0b10>"
            ]
          },
          "metadata": {},
          "execution_count": 28
        }
      ],
      "source": [
        "torch.manual_seed(42)"
      ]
    },
    {
      "cell_type": "markdown",
      "metadata": {
        "id": "jOV-0h9Up5Ye"
      },
      "source": [
        "## PyTorch's Performance"
      ]
    },
    {
      "cell_type": "code",
      "execution_count": null,
      "metadata": {
        "id": "ob31I1Etp5Ye"
      },
      "outputs": [],
      "source": [
        "class TorchModel(nn.Module):\n",
        "\n",
        "    def __init__(self, x_dim, h_dim, y_dim):\n",
        "        super().__init__()\n",
        "        self.layers = [nn.Linear(x_dim, h_dim),\n",
        "                       nn.ReLU(),\n",
        "                       nn.Linear(h_dim,y_dim)]\n",
        "        self.loss = nn.MSELoss()\n",
        "\n",
        "    def forward(self, x):\n",
        "        for l in self.layers:\n",
        "            x = l(x)\n",
        "        return x"
      ]
    },
    {
      "cell_type": "code",
      "execution_count": null,
      "metadata": {
        "id": "SwMTQx4-p5Ye"
      },
      "outputs": [],
      "source": [
        "torch_model = TorchModel(784, 400, 1)"
      ]
    },
    {
      "cell_type": "code",
      "execution_count": null,
      "metadata": {
        "id": "JHQwELfep5Ye"
      },
      "outputs": [],
      "source": [
        "torch_forward = timeit.timeit(partial(torch_model,x_train), number=10)\n",
        "y_pred = torch_model(x_train)\n",
        "loss = torch_model.loss(y_pred, y_train.unsqueeze(-1).float())\n",
        "torch_backward = timeit.timeit(loss.backward, number=1)"
      ]
    },
    {
      "cell_type": "code",
      "execution_count": null,
      "metadata": {
        "colab": {
          "base_uri": "https://localhost:8080/"
        },
        "id": "vo2DRAqhp5Yf",
        "outputId": "507b24a0-39d3-40cc-81a4-d30d4bceb315"
      },
      "outputs": [
        {
          "output_type": "execute_result",
          "data": {
            "text/plain": [
              "(5.882515522999995, 1.1950620910000112)"
            ]
          },
          "metadata": {},
          "execution_count": 33
        }
      ],
      "source": [
        "torch_forward, torch_backward"
      ]
    },
    {
      "cell_type": "markdown",
      "metadata": {
        "id": "QJDPAS0ep5Yf"
      },
      "source": [
        "## Our Model's Performance"
      ]
    },
    {
      "cell_type": "code",
      "execution_count": null,
      "metadata": {
        "id": "B4mi-U5tp5Yf"
      },
      "outputs": [],
      "source": [
        "class OurModel(Layer):\n",
        "\n",
        "    def __init__(self, x_dim, h_dim, y_dim):\n",
        "        self.layers = [Linear(x_dim, h_dim),\n",
        "                       ReLU(),\n",
        "                       Linear(h_dim, y_dim)]\n",
        "        self.loss = MSE()\n",
        "\n",
        "    def forward(self, x):\n",
        "        for l in self.layers:\n",
        "            x = l(x)\n",
        "        return x\n",
        "\n",
        "    def backward(self):\n",
        "        self.loss.backward()\n",
        "        for layer in reversed(self.layers):\n",
        "            layer.backward()"
      ]
    },
    {
      "cell_type": "code",
      "execution_count": null,
      "metadata": {
        "id": "E_EQiXuWp5Yg"
      },
      "outputs": [],
      "source": [
        "model = OurModel(784, 400, 1)"
      ]
    },
    {
      "cell_type": "markdown",
      "source": [
        "## Play around with Layers and Activation functions"
      ],
      "metadata": {
        "id": "dz9rZl9SDeJi"
      }
    },
    {
      "cell_type": "markdown",
      "source": [
        "### Create function to calculate accuracy"
      ],
      "metadata": {
        "id": "T1UoUWbRDuLw"
      }
    },
    {
      "cell_type": "code",
      "source": [
        "import torch\n",
        "from torch.utils.data import DataLoader, TensorDataset"
      ],
      "metadata": {
        "id": "ZdYXtepxvwPB"
      },
      "execution_count": null,
      "outputs": []
    },
    {
      "cell_type": "code",
      "source": [
        "def create_train_dataloader(x_train, y_train, batch_size):\n",
        "    # Convert the training data to PyTorch tensors\n",
        "    x_train_tensor = torch.tensor(x_train, dtype=torch.float32)\n",
        "    y_train_tensor = torch.tensor(y_train, dtype=torch.long)\n",
        "\n",
        "    # Create a TensorDataset from the input tensors\n",
        "    dataset = TensorDataset(x_train_tensor, y_train_tensor)\n",
        "\n",
        "    # Create a DataLoader to handle batching and shuffling\n",
        "    dataloader = DataLoader(dataset, batch_size=batch_size, shuffle=True)\n",
        "\n",
        "    return dataloader"
      ],
      "metadata": {
        "id": "9z3Qnwy8vMOc"
      },
      "execution_count": 126,
      "outputs": []
    },
    {
      "cell_type": "code",
      "source": [
        "train_dataloader = create_train_dataloader(x_train, y_train, 32)\n",
        "test_dataloader = create_train_dataloader(x_test, y_test, 32)"
      ],
      "metadata": {
        "colab": {
          "base_uri": "https://localhost:8080/"
        },
        "id": "scBAlzPOvszP",
        "outputId": "961d919d-a4cf-4515-fd04-4a4da4f76d80"
      },
      "execution_count": 127,
      "outputs": [
        {
          "output_type": "stream",
          "name": "stderr",
          "text": [
            "<ipython-input-126-4a0656b67a63>:3: UserWarning: To copy construct from a tensor, it is recommended to use sourceTensor.clone().detach() or sourceTensor.clone().detach().requires_grad_(True), rather than torch.tensor(sourceTensor).\n",
            "  x_train_tensor = torch.tensor(x_train, dtype=torch.float32)\n",
            "<ipython-input-126-4a0656b67a63>:4: UserWarning: To copy construct from a tensor, it is recommended to use sourceTensor.clone().detach() or sourceTensor.clone().detach().requires_grad_(True), rather than torch.tensor(sourceTensor).\n",
            "  y_train_tensor = torch.tensor(y_train, dtype=torch.long)\n"
          ]
        }
      ]
    },
    {
      "cell_type": "code",
      "source": [
        "import torch\n",
        "import torch.nn as nn\n",
        "import time\n",
        "\n",
        "def train_and_get_acc(net, train_dataloader, test_dataloader):\n",
        "    criterion = nn.CrossEntropyLoss()\n",
        "    optimizer = torch.optim.SGD(net.parameters(), lr=0.01)\n",
        "\n",
        "    # Training loop\n",
        "    start_time = time.time()\n",
        "    for epoch in range(10):\n",
        "        epoch_start_time = time.time()\n",
        "        for inputs, labels in train_dataloader:\n",
        "            optimizer.zero_grad()\n",
        "            start_forward = time.time()\n",
        "            outputs = net(inputs)\n",
        "\n",
        "            loss = criterion(outputs, labels)\n",
        "            loss.backward()\n",
        "            optimizer.step()\n",
        "\n",
        "        epoch_end_time = time.time()\n",
        "        epoch_time = epoch_end_time - epoch_start_time\n",
        "        print(f\"Epoch {epoch + 1} Time: {epoch_time:.2f} seconds\")\n",
        "\n",
        "    total_time = time.time() - start_time\n",
        "    print(f\"Total Training Time: {total_time:.2f} seconds\")\n",
        "\n",
        "    # Evaluation\n",
        "    net.eval()\n",
        "    correct = 0\n",
        "    total = 0\n",
        "\n",
        "    with torch.no_grad():\n",
        "        for inputs, labels in test_dataloader:\n",
        "            outputs = net(inputs)\n",
        "            _, predicted = torch.max(outputs, dim=1)\n",
        "            total += labels.size(0)\n",
        "            correct += (predicted == labels).sum().item()\n",
        "\n",
        "    accuracy = correct / total\n",
        "    print(f\"Test Accuracy: {accuracy:.4f}\")\n",
        "\n",
        "    return accuracy"
      ],
      "metadata": {
        "id": "pGmi7loCzCQH"
      },
      "execution_count": 135,
      "outputs": []
    },
    {
      "cell_type": "markdown",
      "source": [
        "#### Create new Class, for different activation functions"
      ],
      "metadata": {
        "id": "R1BpAivQGmrA"
      }
    },
    {
      "cell_type": "code",
      "source": [
        "class MyNet(nn.Module):\n",
        "    def __init__(self, layers):\n",
        "        super(MyNet, self).__init__()\n",
        "        self.layers = nn.ModuleList(layers)\n",
        "        self.loss = nn.MSELoss()\n",
        "\n",
        "    def forward(self, x):\n",
        "      for l in self.layers:\n",
        "            x = l(x)\n",
        "      return x"
      ],
      "metadata": {
        "id": "r8pPlv4bxs7O"
      },
      "execution_count": 129,
      "outputs": []
    },
    {
      "cell_type": "markdown",
      "source": [
        "#### Take dims from above"
      ],
      "metadata": {
        "id": "txIoJWFEGisl"
      }
    },
    {
      "cell_type": "code",
      "source": [
        "x_dim = 784\n",
        "h_dim = 400\n",
        "y_dim = 10\n",
        "n = 10"
      ],
      "metadata": {
        "id": "fKCBw-LzGDJo"
      },
      "execution_count": 130,
      "outputs": []
    },
    {
      "cell_type": "markdown",
      "source": [
        "### ReLU Activation"
      ],
      "metadata": {
        "id": "RsRNCG8FG0n9"
      }
    },
    {
      "cell_type": "markdown",
      "source": [
        "#### 2 Layers"
      ],
      "metadata": {
        "id": "QaZ7yGzrG_xR"
      }
    },
    {
      "cell_type": "code",
      "source": [
        "layers2 = [\n",
        "    nn.Linear(x_dim, h_dim),\n",
        "    nn.ReLU(),\n",
        "    nn.Linear(h_dim,y_dim)\n",
        "]\n",
        "\n",
        "torch_model = MyNet(layers2)\n",
        "acc = train_and_get_acc(torch_model, train_dataloader, test_dataloader)\n"
      ],
      "metadata": {
        "colab": {
          "base_uri": "https://localhost:8080/"
        },
        "id": "KxOQzmwNFu_0",
        "outputId": "7ec96e96-6b05-4a15-e355-3ac8973d461f"
      },
      "execution_count": 136,
      "outputs": [
        {
          "output_type": "stream",
          "name": "stdout",
          "text": [
            "Epoch 1 Time: 2.88 seconds\n",
            "Epoch 2 Time: 2.88 seconds\n",
            "Epoch 3 Time: 3.11 seconds\n",
            "Epoch 4 Time: 4.72 seconds\n",
            "Epoch 5 Time: 3.27 seconds\n",
            "Epoch 6 Time: 3.03 seconds\n",
            "Epoch 7 Time: 9.18 seconds\n",
            "Epoch 8 Time: 4.47 seconds\n",
            "Epoch 9 Time: 3.17 seconds\n",
            "Epoch 10 Time: 3.88 seconds\n",
            "Total Training Time: 40.60 seconds\n",
            "Test Accuracy: 0.9733\n"
          ]
        }
      ]
    },
    {
      "cell_type": "markdown",
      "source": [
        "#### 3 Layers"
      ],
      "metadata": {
        "id": "K8kmBHa9M6NI"
      }
    },
    {
      "cell_type": "code",
      "execution_count": 137,
      "metadata": {
        "colab": {
          "base_uri": "https://localhost:8080/"
        },
        "id": "r-lcMu-Ip5Yg",
        "outputId": "5c02327c-bf80-40e7-b61f-36df8602ad89"
      },
      "outputs": [
        {
          "output_type": "stream",
          "name": "stdout",
          "text": [
            "Epoch 1 Time: 4.33 seconds\n",
            "Epoch 2 Time: 7.70 seconds\n",
            "Epoch 3 Time: 5.89 seconds\n",
            "Epoch 4 Time: 5.62 seconds\n",
            "Epoch 5 Time: 4.20 seconds\n",
            "Epoch 6 Time: 4.58 seconds\n",
            "Epoch 7 Time: 5.24 seconds\n",
            "Epoch 8 Time: 4.25 seconds\n",
            "Epoch 9 Time: 9.14 seconds\n",
            "Epoch 10 Time: 4.25 seconds\n",
            "Total Training Time: 55.19 seconds\n",
            "Test Accuracy: 0.9764\n"
          ]
        }
      ],
      "source": [
        "layers3 = [\n",
        "    nn.Linear(x_dim, h_dim),\n",
        "    nn.ReLU(),\n",
        "    nn.Linear(h_dim, h_dim),\n",
        "    nn.ReLU(),\n",
        "    nn.Linear(h_dim,y_dim)\n",
        "]\n",
        "\n",
        "\n",
        "torch_model = MyNet(layers3)\n",
        "acc = train_and_get_acc(torch_model, train_dataloader, test_dataloader)"
      ]
    },
    {
      "cell_type": "markdown",
      "source": [
        "#### 5 Layers"
      ],
      "metadata": {
        "id": "86JyWfEJNPOl"
      }
    },
    {
      "cell_type": "code",
      "execution_count": 138,
      "metadata": {
        "colab": {
          "base_uri": "https://localhost:8080/"
        },
        "id": "je9uDspCp5Yg",
        "outputId": "309b21f9-407c-4f95-d059-dff7597cd029"
      },
      "outputs": [
        {
          "output_type": "stream",
          "name": "stdout",
          "text": [
            "Epoch 1 Time: 8.73 seconds\n",
            "Epoch 2 Time: 7.25 seconds\n",
            "Epoch 3 Time: 12.03 seconds\n",
            "Epoch 4 Time: 8.68 seconds\n",
            "Epoch 5 Time: 6.94 seconds\n",
            "Epoch 6 Time: 8.49 seconds\n",
            "Epoch 7 Time: 7.70 seconds\n",
            "Epoch 8 Time: 7.48 seconds\n",
            "Epoch 9 Time: 8.45 seconds\n",
            "Epoch 10 Time: 7.02 seconds\n",
            "Total Training Time: 82.78 seconds\n",
            "Test Accuracy: 0.9773\n"
          ]
        }
      ],
      "source": [
        "layers5 = [\n",
        "    nn.Linear(x_dim, h_dim),\n",
        "    nn.ReLU(),\n",
        "    nn.Linear(h_dim, h_dim),\n",
        "    nn.ReLU(),\n",
        "    nn.Linear(h_dim, h_dim),\n",
        "    nn.ReLU(),\n",
        "    nn.Linear(h_dim, h_dim),\n",
        "    nn.ReLU(),\n",
        "    nn.Linear(h_dim, y_dim),\n",
        "]\n",
        "\n",
        "torch_model = MyNet(layers5)\n",
        "acc = train_and_get_acc(torch_model, train_dataloader, test_dataloader)"
      ]
    },
    {
      "cell_type": "markdown",
      "source": [
        "### Sigmoid Activation Function"
      ],
      "metadata": {
        "id": "s4TTbDsZNXid"
      }
    },
    {
      "cell_type": "markdown",
      "source": [
        "#### 2 Layer"
      ],
      "metadata": {
        "id": "yCnuyKaINdZA"
      }
    },
    {
      "cell_type": "code",
      "source": [
        "layers2 = [\n",
        "    nn.Linear(x_dim, h_dim),\n",
        "    nn.Sigmoid(),\n",
        "    nn.Linear(h_dim,y_dim)\n",
        "]\n",
        "\n",
        "torch_model = MyNet(layers2)\n",
        "acc = train_and_get_acc(torch_model, train_dataloader, test_dataloader)"
      ],
      "metadata": {
        "colab": {
          "base_uri": "https://localhost:8080/"
        },
        "id": "RGVypQcuNfWA",
        "outputId": "7e7549d8-2165-405b-b811-804c6a677003"
      },
      "execution_count": 139,
      "outputs": [
        {
          "output_type": "stream",
          "name": "stdout",
          "text": [
            "Epoch 1 Time: 4.01 seconds\n",
            "Epoch 2 Time: 3.03 seconds\n",
            "Epoch 3 Time: 2.90 seconds\n",
            "Epoch 4 Time: 2.79 seconds\n",
            "Epoch 5 Time: 3.34 seconds\n",
            "Epoch 6 Time: 3.53 seconds\n",
            "Epoch 7 Time: 2.91 seconds\n",
            "Epoch 8 Time: 2.82 seconds\n",
            "Epoch 9 Time: 3.02 seconds\n",
            "Epoch 10 Time: 4.02 seconds\n",
            "Total Training Time: 32.37 seconds\n",
            "Test Accuracy: 0.9305\n"
          ]
        }
      ]
    },
    {
      "cell_type": "markdown",
      "source": [
        "#### 3 Layers"
      ],
      "metadata": {
        "id": "CNo4wYdKNoJg"
      }
    },
    {
      "cell_type": "code",
      "source": [
        "layers3 = [\n",
        "    nn.Linear(x_dim, h_dim),\n",
        "    nn.Sigmoid(),\n",
        "    nn.Linear(h_dim,h_dim),\n",
        "    nn.Sigmoid(),\n",
        "    nn.Linear(h_dim,y_dim)\n",
        "]\n",
        "\n",
        "torch_model = MyNet(layers3)\n",
        "acc = train_and_get_acc(torch_model, train_dataloader, test_dataloader)"
      ],
      "metadata": {
        "colab": {
          "base_uri": "https://localhost:8080/"
        },
        "id": "NpZ6i409Nqxt",
        "outputId": "725ed08b-8dfc-45c1-d757-7353b6bd2750"
      },
      "execution_count": 140,
      "outputs": [
        {
          "output_type": "stream",
          "name": "stdout",
          "text": [
            "Epoch 1 Time: 4.29 seconds\n",
            "Epoch 2 Time: 4.26 seconds\n",
            "Epoch 3 Time: 5.59 seconds\n",
            "Epoch 4 Time: 4.18 seconds\n",
            "Epoch 5 Time: 4.27 seconds\n",
            "Epoch 6 Time: 4.96 seconds\n",
            "Epoch 7 Time: 4.01 seconds\n",
            "Epoch 8 Time: 4.78 seconds\n",
            "Epoch 9 Time: 4.64 seconds\n",
            "Epoch 10 Time: 4.03 seconds\n",
            "Total Training Time: 45.02 seconds\n",
            "Test Accuracy: 0.9174\n"
          ]
        }
      ]
    },
    {
      "cell_type": "markdown",
      "source": [
        "##### 5 Layers"
      ],
      "metadata": {
        "id": "poBIQ39qOTIZ"
      }
    },
    {
      "cell_type": "code",
      "source": [
        "layers5 = [\n",
        "    nn.Linear(x_dim, h_dim),\n",
        "    nn.Sigmoid(),\n",
        "    nn.Linear(h_dim, h_dim),\n",
        "    nn.Sigmoid(),\n",
        "    nn.Linear(h_dim, h_dim),\n",
        "    nn.Sigmoid(),\n",
        "    nn.Linear(h_dim, h_dim),\n",
        "    nn.Sigmoid(),\n",
        "    nn.Linear(h_dim, y_dim),\n",
        "]\n",
        "\n",
        "torch_model = MyNet(layers5)\n",
        "acc = train_and_get_acc(torch_model, train_dataloader, test_dataloader)"
      ],
      "metadata": {
        "colab": {
          "base_uri": "https://localhost:8080/"
        },
        "id": "gF72lyZLOUOw",
        "outputId": "350727c0-5fbe-4a3b-ee71-7ffbfab98526"
      },
      "execution_count": null,
      "outputs": [
        {
          "output_type": "stream",
          "name": "stdout",
          "text": [
            "Epoch 1 Time: 8.00 seconds\n",
            "Epoch 2 Time: 7.38 seconds\n",
            "Epoch 3 Time: 8.12 seconds\n",
            "Epoch 4 Time: 8.52 seconds\n",
            "Epoch 5 Time: 7.29 seconds\n",
            "Epoch 6 Time: 8.88 seconds\n"
          ]
        }
      ]
    },
    {
      "cell_type": "markdown",
      "source": [
        "### ELU"
      ],
      "metadata": {
        "id": "Xh5pgbcgQHwR"
      }
    },
    {
      "cell_type": "markdown",
      "source": [
        "####  2 Layers"
      ],
      "metadata": {
        "id": "XxMwLs4PQsZ9"
      }
    },
    {
      "cell_type": "code",
      "source": [
        "layers2 = [\n",
        "    nn.Linear(x_dim, h_dim),\n",
        "    nn.ELU(),\n",
        "    nn.Linear(h_dim,y_dim)\n",
        "]\n",
        "\n",
        "torch_model = MyNet(layers2)\n",
        "acc = train_and_get_acc(torch_model, train_dataloader, test_dataloader)"
      ],
      "metadata": {
        "id": "CBOp02SFQT__"
      },
      "execution_count": null,
      "outputs": []
    },
    {
      "cell_type": "markdown",
      "source": [
        "#### 3 Layers"
      ],
      "metadata": {
        "id": "mMoLQHreQv9U"
      }
    },
    {
      "cell_type": "code",
      "source": [
        "layers3 = [\n",
        "    nn.Linear(x_dim, h_dim),\n",
        "    nn.ELU(),\n",
        "    nn.Linear(h_dim,h_dim),\n",
        "    nn.ELU(),\n",
        "    nn.Linear(h_dim,y_dim)\n",
        "]\n",
        "\n",
        "torch_model = MyNet(layers3)\n",
        "acc = train_and_get_acc(torch_model, train_dataloader, test_dataloader)"
      ],
      "metadata": {
        "id": "ik73HhblQy4W"
      },
      "execution_count": null,
      "outputs": []
    },
    {
      "cell_type": "markdown",
      "source": [
        "#### 5 Layers"
      ],
      "metadata": {
        "id": "jV4NKzPsRQR6"
      }
    },
    {
      "cell_type": "code",
      "source": [
        "layers5 = [\n",
        "    nn.Linear(x_dim, h_dim),\n",
        "    nn.ELU(),\n",
        "    nn.Linear(h_dim, h_dim),\n",
        "    nn.ELU(),\n",
        "    nn.Linear(h_dim, h_dim),\n",
        "    nn.ELU(),\n",
        "    nn.Linear(h_dim, h_dim),\n",
        "    nn.ELU(),\n",
        "    nn.Linear(h_dim, y_dim),\n",
        "]\n",
        "\n",
        "torch_model = MyNet(layers5)\n",
        "acc = train_and_get_acc(torch_model, train_dataloader, test_dataloader)"
      ],
      "metadata": {
        "id": "Pwt6Op5qRR44"
      },
      "execution_count": null,
      "outputs": []
    },
    {
      "cell_type": "markdown",
      "source": [
        "### Combination"
      ],
      "metadata": {
        "id": "W9LeSHPgWgUG"
      }
    },
    {
      "cell_type": "code",
      "source": [
        "layers3 = [\n",
        "    nn.Linear(x_dim, h_dim),\n",
        "    nn.Sigmoid(),\n",
        "    nn.Linear(h_dim, h_dim),\n",
        "    nn.ReLU(),\n",
        "    nn.Linear(h_dim, y_dim),\n",
        "]\n",
        "\n",
        "torch_model = MyNet(layers3)\n",
        "acc = train_and_get_acc(torch_model, train_dataloader, test_dataloader)"
      ],
      "metadata": {
        "id": "FVUBcBJYWjA-"
      },
      "execution_count": null,
      "outputs": []
    },
    {
      "cell_type": "code",
      "source": [
        "layers5 = [\n",
        "    nn.Linear(x_dim, h_dim),\n",
        "    nn.ReLU(),\n",
        "    nn.Linear(h_dim, h_dim),\n",
        "    nn.Tanh(),\n",
        "    nn.Linear(h_dim, h_dim),\n",
        "    nn.LeakyReLU(),\n",
        "    nn.Linear(h_dim, y_dim)\n",
        "]\n",
        "\n",
        "torch_model = MyNet(layers5)\n",
        "acc = train_and_get_acc(torch_model, train_dataloader, test_dataloader)"
      ],
      "metadata": {
        "id": "HzkZARWR_ned"
      },
      "execution_count": null,
      "outputs": []
    },
    {
      "cell_type": "markdown",
      "metadata": {
        "id": "-C9Jg6FGp5Yh"
      },
      "source": [
        "___"
      ]
    }
  ],
  "metadata": {
    "kernelspec": {
      "display_name": "Python [conda env:prod] *",
      "language": "python",
      "name": "conda-env-prod-py"
    },
    "language_info": {
      "codemirror_mode": {
        "name": "ipython",
        "version": 3
      },
      "file_extension": ".py",
      "mimetype": "text/x-python",
      "name": "python",
      "nbconvert_exporter": "python",
      "pygments_lexer": "ipython3",
      "version": "3.7.5"
    },
    "toc": {
      "base_numbering": 1,
      "nav_menu": {},
      "number_sections": true,
      "sideBar": true,
      "skip_h1_title": false,
      "title_cell": "Table of Contents",
      "title_sidebar": "Contents",
      "toc_cell": true,
      "toc_position": {},
      "toc_section_display": true,
      "toc_window_display": true
    },
    "colab": {
      "provenance": [],
      "include_colab_link": true
    }
  },
  "nbformat": 4,
  "nbformat_minor": 0
}